{
 "cells": [
  {
   "cell_type": "code",
   "execution_count": 36,
   "id": "17c15686",
   "metadata": {},
   "outputs": [],
   "source": [
    "import pandas as pd\n",
    "import numpy as np\n",
    "import plotly.express as px\n",
    "import plotly.graph_objects as go\n",
    "from jupyter_dash import JupyterDash\n",
    "import dash_core_components as dcc\n",
    "import dash_html_components as html\n",
    "from dash.dependencies import Input, Output"
   ]
  },
  {
   "cell_type": "code",
   "execution_count": 44,
   "id": "37421dd1",
   "metadata": {},
   "outputs": [],
   "source": [
    "def gen_sample_fig():\n",
    "    fig = px.scatter(x=[0, 1, 2, 3, 4], y=[0, 1, 4, 9, 16])\n",
    "    return fig "
   ]
  },
  {
   "cell_type": "code",
   "execution_count": 102,
   "id": "d5becb4d",
   "metadata": {},
   "outputs": [],
   "source": [
    "app = JupyterDash(__name__)\n",
    "app.layout = html.Div([\n",
    "    html.Div([                              #header\n",
    "        \n",
    "    ], className='header', id='app-header', style={'background-color':'green', 'height': '100px'}),\n",
    "    html.Div([                             #navbar\n",
    "        \n",
    "    ], className='navbar', id='navbar', style={'background-color':'red', 'height': '100px'}),\n",
    "    html.Div([                               #mainpart\n",
    "        html.Div([\n",
    "#             dcc.Dropdown()\n",
    "        ], className='left_side', style={'height': '600px', 'float':'left', 'width':'20%'}),\n",
    "        html.Div([\n",
    "            dcc.Graph(id='graph', figure=gen_sample_fig())\n",
    "        ], className='middle_side', style={'height': '600px', 'float':'left', 'width':'60%'}),\n",
    "        html.Div([\n",
    "            dcc.Textarea(\n",
    "            id='textarea',\n",
    "            value='nothing',\n",
    "            )\n",
    "            \n",
    "        ], className='rightside', style={'height': '600px', 'float':'left', 'width':'20%'})\n",
    "        \n",
    "    ], className='main_part', style={'background-color':'green'}),\n",
    "    html.Div([                                #footer\n",
    "        \n",
    "    ], className='footer')\n",
    "    \n",
    "    \n",
    "], className='body')"
   ]
  },
  {
   "cell_type": "code",
   "execution_count": 103,
   "id": "59b6d284",
   "metadata": {},
   "outputs": [],
   "source": [
    "lastPoint = None\n",
    "temp = None\n",
    "@app.callback(\n",
    "    Output('textarea', 'value'),\n",
    "    Input('graph', 'clickData')\n",
    "    )\n",
    "def update_text(choosenPoint):\n",
    "    global lastPoint, temp\n",
    "    if choosenPoint:\n",
    "            \n",
    "        if temp is None:\n",
    "            temp = choosenPoint\n",
    "            return 'x: '+str(choosenPoint['points'][0]['x'])+'  y: '+str(choosenPoint['points'][0]['y'])\n",
    "        else:\n",
    "            lastPoint = temp\n",
    "            temp = choosenPoint\n",
    "            return ('x: '+str(lastPoint['points'][0]['x'])+'  y: '+str(lastPoint['points'][0]['y'])+'\\n'\n",
    "            +'x: '+str(choosenPoint['points'][0]['x'])+'  y: '+str(choosenPoint['points'][0]['y']))\n",
    "    return None"
   ]
  },
  {
   "cell_type": "code",
   "execution_count": 104,
   "id": "6e6cc476",
   "metadata": {},
   "outputs": [
    {
     "name": "stdout",
     "output_type": "stream",
     "text": [
      "None\n",
      "{'points': [{'curveNumber': 0, 'pointNumber': 4, 'pointIndex': 4, 'x': 4, 'y': 16}]}\n",
      "{'points': [{'curveNumber': 0, 'pointNumber': 3, 'pointIndex': 3, 'x': 3, 'y': 9}]}\n",
      "{'points': [{'curveNumber': 0, 'pointNumber': 4, 'pointIndex': 4, 'x': 4, 'y': 16}]}\n",
      "{'points': [{'curveNumber': 0, 'pointNumber': 2, 'pointIndex': 2, 'x': 2, 'y': 4}]}\n",
      "{'points': [{'curveNumber': 0, 'pointNumber': 3, 'pointIndex': 3, 'x': 3, 'y': 9}]}\n"
     ]
    }
   ],
   "source": [
    "app.run_server(mode='jupyterlab', port = 8090, dev_tools_ui=True, #debug=True,\n",
    "              dev_tools_hot_reload =True, threaded=True)"
   ]
  },
  {
   "cell_type": "code",
   "execution_count": null,
   "id": "045d9ee8",
   "metadata": {},
   "outputs": [],
   "source": []
  }
 ],
 "metadata": {
  "kernelspec": {
   "display_name": "Python 3 (ipykernel)",
   "language": "python",
   "name": "python3"
  },
  "language_info": {
   "codemirror_mode": {
    "name": "ipython",
    "version": 3
   },
   "file_extension": ".py",
   "mimetype": "text/x-python",
   "name": "python",
   "nbconvert_exporter": "python",
   "pygments_lexer": "ipython3",
   "version": "3.7.11"
  },
  "toc": {
   "base_numbering": 1,
   "nav_menu": {},
   "number_sections": true,
   "sideBar": true,
   "skip_h1_title": false,
   "title_cell": "Table of Contents",
   "title_sidebar": "Contents",
   "toc_cell": false,
   "toc_position": {},
   "toc_section_display": true,
   "toc_window_display": false
  }
 },
 "nbformat": 4,
 "nbformat_minor": 5
}
