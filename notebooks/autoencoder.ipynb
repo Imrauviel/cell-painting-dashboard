{
  "cells": [
    {
      "cell_type": "markdown",
      "metadata": {
        "colab_type": "text",
        "id": "B-W1_Zm080yD"
      },
      "source": [
        "# In This notebook \n",
        "\n",
        "An autoencoder will be trained whose features are:\n",
        "\n",
        "\n",
        "\n",
        "*   First actually architecture of  it is inspired from vgg 16\n",
        "*   there will be batch normalization layers to prevent gradient vanishing problem\n",
        "*   activation function in hidden layer will be relu because of same reason using batch normalization \n",
        "*   becasue of input images only have 255 or 0 values we are going to translate this problem as a binary clasification so loss function will be binary cross entropy and output activation fuction will be sigmoid\n",
        "*   rule of tumb is the total number of training data points should be at least 2 or 3 times larger than number of parameters in neural networks\n",
        "    *    Number of trainable parameters in our model is 308,593\n",
        "    *    Because of time it takes every epoch 32 * 10000 data point will be generated \n",
        "    \n",
        "\n",
        "\n"
      ]
    },
    {
      "cell_type": "code",
      "execution_count": 2,
      "metadata": {
        "colab": {
          "base_uri": "https://localhost:8080/",
          "height": 34
        },
        "colab_type": "code",
        "id": "mtrrCznS8sZO",
        "outputId": "b508e811-937e-44c3-c795-8d2400ae7c4d"
      },
      "outputs": [],
      "source": [
        "from keras.layers import Input, Conv2D, MaxPooling2D, UpSampling2D, BatchNormalization\n",
        "from keras.models import Model, load_model\n",
        "from keras.callbacks import ModelCheckpoint, TensorBoard\n",
        "from tensorflow.keras.optimizers import SGD\n",
        "\n",
        "import matplotlib.pyplot as plt\n",
        "\n",
        "import cv2\n",
        "import os\n",
        "import random\n",
        "import numpy as np\n",
        "# from tqdm import tqdm\n",
        "\n",
        "SHAPE = (224,224,1)\n",
        "TRAIN_DIR = \"/content/drive/My Drive/challange_data/train_data\""
      ]
    },
    {
      "cell_type": "markdown",
      "metadata": {
        "colab_type": "text",
        "id": "H1vB5O2vCATu"
      },
      "source": [
        "## Fuction for creating Model"
      ]
    },
    {
      "cell_type": "code",
      "execution_count": 3,
      "metadata": {
        "colab": {},
        "colab_type": "code",
        "id": "olBdXF9HBxFd"
      },
      "outputs": [],
      "source": [
        "#Batch Normalization is usually inserted after fully connected layers or Convolutional layers and before non-linearity\n",
        "def create_model(orginal =False, input_shape = (224, 224, 1)):\n",
        "    #inspired from vgg16\n",
        "    if(orginal):\n",
        "        input_img = Input(shape=input_shape) \n",
        "\n",
        "        x = Conv2D(64, (3, 3), activation='relu', padding='same')(input_img)\n",
        "        x = BatchNormalization()(x)\n",
        "        x = Conv2D(64, (3, 3), activation='relu', padding='same')(x)\n",
        "        x = BatchNormalization()(x)\n",
        "\n",
        "        x = MaxPooling2D((2, 2), padding='same')(x)#112 112 64\n",
        "        \n",
        "        x = Conv2D(128, (3, 3), activation='relu', padding='same')(x)\n",
        "        x = BatchNormalization()(x)\n",
        "\n",
        "        x = MaxPooling2D((2, 2), padding='same')(x)#56 56 128\n",
        "\n",
        "        x = Conv2D(256, (3, 3), activation='relu', padding='same')(x)\n",
        "        x = BatchNormalization()(x)\n",
        "        x = Conv2D(256, (3, 3), activation='relu', padding='same')(x)\n",
        "        x = BatchNormalization()(x)\n",
        "        x = Conv2D(256, (3, 3), activation='relu', padding='same')(x)\n",
        "        x = BatchNormalization()(x)\n",
        "\n",
        "        x = MaxPooling2D((2, 2), padding='same')(x)#28 28 128\n",
        "\n",
        "        x = Conv2D(512, (3, 3), activation='relu', padding='same')(x)\n",
        "        x = BatchNormalization()(x)\n",
        "        x = Conv2D(512, (3, 3), activation='relu', padding='same')(x)\n",
        "        x = BatchNormalization()(x)\n",
        "        x = Conv2D(512, (3, 3), activation='relu', padding='same')(x)\n",
        "        x = BatchNormalization()(x)\n",
        "\n",
        "        x = MaxPooling2D((2, 2), padding='same')(x)#14 14 512\n",
        "\n",
        "        x = Conv2D(512, (3, 3), activation='relu', padding='same')(x)\n",
        "        x = BatchNormalization()(x)\n",
        "        x = Conv2D(512, (3, 3), activation='relu', padding='same')(x)\n",
        "        x = BatchNormalization()(x)\n",
        "        x = Conv2D(512, (3, 3), activation='relu', padding='same')(x)\n",
        "        x = BatchNormalization()(x)\n",
        "\n",
        "        encoded = MaxPooling2D((2, 2), padding='same', name=\"encoder\")(x)#7 7 512\n",
        "        \n",
        "        x = UpSampling2D((2, 2))(encoded)#14 14 512\n",
        "        \n",
        "        x = Conv2D(512, (3, 3), activation='relu', padding='same')(x)\n",
        "        x = BatchNormalization()(x)\n",
        "        x = Conv2D(512, (3, 3), activation='relu', padding='same')(x)\n",
        "        x = BatchNormalization()(x)\n",
        "        x = Conv2D(512, (3, 3), activation='relu', padding='same')(x)\n",
        "        x = BatchNormalization()(x)\n",
        "\n",
        "        x = UpSampling2D((2, 2))(x)#28 28 512\n",
        "\n",
        "        x = Conv2D(512, (3, 3), activation='relu', padding='same')(x)\n",
        "        x = BatchNormalization()(x)\n",
        "        x = Conv2D(512, (3, 3), activation='relu', padding='same')(x)\n",
        "        x = BatchNormalization()(x)\n",
        "        x = Conv2D(512, (3, 3), activation='relu', padding='same')(x)\n",
        "        x = BatchNormalization()(x)\n",
        "\n",
        "        x = UpSampling2D((2, 2))(x)#56 56 512\n",
        "\n",
        "        x = Conv2D(256, (3, 3), activation='relu', padding='same')(x)\n",
        "        x = BatchNormalization()(x)\n",
        "        x = Conv2D(256, (3, 3), activation='relu', padding='same')(x)\n",
        "        x = BatchNormalization()(x)\n",
        "        x = Conv2D(256, (3, 3), activation='relu', padding='same')(x)\n",
        "        x = BatchNormalization()(x)\n",
        "\n",
        "        x = UpSampling2D((2, 2))(x)#112 112 256\n",
        "\n",
        "        x = Conv2D(128, (3, 3), activation='relu', padding='same')(x)\n",
        "        x = BatchNormalization()(x)\n",
        "\n",
        "        x = UpSampling2D((2, 2))(x)#224 224 128\n",
        "\n",
        "        x = Conv2D(64, (3, 3), activation='relu', padding='same')(x)\n",
        "        x = BatchNormalization()(x)\n",
        "\n",
        "        decoded = Conv2D(1, (3, 3), activation='sigmoid', padding='same')(x)\n",
        "\n",
        "        return Model(input_img, decoded)\n",
        "    input_img = Input(shape=input_shape) \n",
        "\n",
        "    x = Conv2D(16, (3, 3), activation='relu', padding='same')(input_img)\n",
        "    x = BatchNormalization()(x)\n",
        "    x = Conv2D(16, (3, 3), activation='relu', padding='same')(x)\n",
        "    x = BatchNormalization()(x)\n",
        "\n",
        "    x = MaxPooling2D((2, 2), padding='same')(x)#112 112 16\n",
        "    \n",
        "    x = Conv2D(32, (3, 3), activation='relu', padding='same')(x)\n",
        "    x = BatchNormalization()(x)\n",
        "\n",
        "    x = MaxPooling2D((2, 2), padding='same')(x)#56 56 32\n",
        "\n",
        "    x = Conv2D(64, (3, 3), activation='relu', padding='same')(x)\n",
        "    x = BatchNormalization()(x)\n",
        "    \n",
        "    x = MaxPooling2D((2, 2), padding='same')(x)#28 28 32\n",
        "    #-------\n",
        "    x = Conv2D(64, (3, 3), activation='relu', padding='same')(x)\n",
        "    x = BatchNormalization()(x)\n",
        "\n",
        "    x = MaxPooling2D((2, 2), padding='same')(x)#14 14 64\n",
        "\n",
        "    x = Conv2D(64, (3, 3), activation='relu', padding='same')(x)\n",
        "    x = BatchNormalization()(x)\n",
        "    x = Conv2D(64, (3, 3), activation='relu', padding='same')(x)\n",
        "    x = BatchNormalization()(x)\n",
        "\n",
        "    encoded = MaxPooling2D((2, 2), padding='same', name=\"encoder\")(x)#7 7 64\n",
        "    \n",
        "    x = UpSampling2D((2, 2))(encoded)#14 14 64\n",
        "    \n",
        "    x = Conv2D(64, (3, 3), activation='relu', padding='same')(x)\n",
        "    x = BatchNormalization()(x)\n",
        "    x = Conv2D(64, (3, 3), activation='relu', padding='same')(x)\n",
        "    x = BatchNormalization()(x)\n",
        "\n",
        "    x = UpSampling2D((2, 2))(x)#28 28 64\n",
        "\n",
        "    x = Conv2D(64, (3, 3), activation='relu', padding='same')(x)\n",
        "    x = BatchNormalization()(x)\n",
        "    #-------\n",
        "    x = UpSampling2D((2, 2))(x)#56 56 64\n",
        "\n",
        "    x = Conv2D(64, (3, 3), activation='relu', padding='same')(x)\n",
        "    x = BatchNormalization()(x)\n",
        "\n",
        "    x = UpSampling2D((2, 2))(x)#112 112 64\n",
        "\n",
        "    x = Conv2D(32, (3, 3), activation='relu', padding='same')(x)\n",
        "    x = BatchNormalization()(x)\n",
        "\n",
        "    x = UpSampling2D((2, 2))(x)#224 224 32\n",
        "\n",
        "    x = Conv2D(16, (3, 3), activation='relu', padding='same')(x)\n",
        "    x = BatchNormalization()(x)\n",
        "\n",
        "    decoded = Conv2D(1, (3, 3), activation='sigmoid', padding='same')(x)\n",
        "\n",
        "    return Model(input_img, decoded)"
      ]
    },
    {
      "cell_type": "code",
      "execution_count": 11,
      "metadata": {
        "colab": {},
        "colab_type": "code",
        "id": "Xe5sMG_WGM1z"
      },
      "outputs": [],
      "source": [
        "def pepper(image):\n",
        "    amount = 0.2\n",
        "    out = image.copy()\n",
        "\n",
        "    # Pepper mode\n",
        "    num_pepper = np.ceil(amount* image.size )\n",
        "    coords = [np.random.randint(0, i - 1, int(num_pepper)) for i in image.shape]\n",
        "    out[coords] = 0\n",
        "    return out"
      ]
    },
    {
      "cell_type": "code",
      "execution_count": 12,
      "metadata": {
        "colab": {},
        "colab_type": "code",
        "id": "673MX5yRKlea"
      },
      "outputs": [],
      "source": [
        "def flip(image):\n",
        "    if(random.randint(0,1) == 1):\n",
        "        return cv2.flip(image,1) \n",
        "    return image"
      ]
    },
    {
      "cell_type": "code",
      "execution_count": 13,
      "metadata": {
        "colab": {},
        "colab_type": "code",
        "id": "Yw9v3pjwK_KF"
      },
      "outputs": [],
      "source": [
        "def rotate(image):\n",
        "    prob = random.randint(0,3)\n",
        "    if(prob == 0):\n",
        "        return cv2.rotate(image,cv2.ROTATE_90_COUNTERCLOCKWISE)\n",
        "    elif(prob == 1):\n",
        "        return cv2.rotate(image,cv2.ROTATE_90_CLOCKWISE)\n",
        "    elif(prob == 2):\n",
        "        return cv2.rotate(image,cv2.ROTATE_180)\n",
        "    return image"
      ]
    },
    {
      "cell_type": "code",
      "execution_count": 14,
      "metadata": {
        "colab": {},
        "colab_type": "code",
        "id": "fCtcWGh3EzVf"
      },
      "outputs": [],
      "source": [
        "def data_generator(directory, batch_size):\n",
        "\n",
        "    i = 0\n",
        "    file_list = os.listdir(directory)\n",
        "    random.shuffle(file_list)\n",
        "    while True:\n",
        "        train_x = []\n",
        "        train_y = []\n",
        "        for _ in range(batch_size):\n",
        "            if i == len(file_list):\n",
        "                i = 0\n",
        "                random.shuffle(file_list)\n",
        "            sample = file_list[i]\n",
        "            i += 1\n",
        "            \n",
        "            image = cv2.resize(cv2.imread(\"{}/{}\".format(directory,sample),0), (SHAPE[0], SHAPE[1]), interpolation=cv2.INTER_NEAREST) # INTER_NEAREST to protect binary structure\n",
        "    \n",
        "            image = flip(image)\n",
        "            image = rotate(image)\n",
        "            image = image.astype(float)/255.\n",
        "            #if random.randint(0,1)<1:\n",
        "            #    image = pepper(image)\n",
        "            train_x.append(pepper(image))\n",
        "            train_y.append(image)\n",
        "\n",
        "        train_x = np.array(train_x)\n",
        "        train_y = np.array(train_y)\n",
        "        #print(\"---------------------------\")\n",
        "        yield train_x.reshape((-1, SHAPE[0], SHAPE[1], 1)), train_y.reshape((-1, SHAPE[0], SHAPE[1], 1))\n",
        "        #yield train_y.reshape((-1, SHAPE[0], SHAPE[1], 1))"
      ]
    },
    {
      "cell_type": "markdown",
      "metadata": {
        "colab_type": "text",
        "id": "48_kKJe86XfJ"
      },
      "source": [
        "# Generated Data Example"
      ]
    },
    {
      "cell_type": "code",
      "execution_count": 15,
      "metadata": {
        "colab": {
          "base_uri": "https://localhost:8080/",
          "height": 1000
        },
        "colab_type": "code",
        "id": "HWMyXTzgHXgm",
        "outputId": "3c6bcc85-7701-4784-9a1c-15a2200019aa"
      },
      "outputs": [
        {
          "ename": "FileNotFoundError",
          "evalue": "[WinError 3] System nie może odnaleźć określonej ścieżki: '/content/drive/My Drive/challange_data/train_data'",
          "output_type": "error",
          "traceback": [
            "\u001b[1;31m---------------------------------------------------------------------------\u001b[0m",
            "\u001b[1;31mFileNotFoundError\u001b[0m                         Traceback (most recent call last)",
            "\u001b[1;32m<ipython-input-15-ea98c671ff3e>\u001b[0m in \u001b[0;36m<module>\u001b[1;34m\u001b[0m\n\u001b[0;32m      1\u001b[0m \u001b[0ma\u001b[0m \u001b[1;33m=\u001b[0m \u001b[0mdata_generator\u001b[0m\u001b[1;33m(\u001b[0m\u001b[0mTRAIN_DIR\u001b[0m\u001b[1;33m,\u001b[0m \u001b[1;36m1\u001b[0m\u001b[1;33m)\u001b[0m\u001b[1;33m\u001b[0m\u001b[1;33m\u001b[0m\u001b[0m\n\u001b[0;32m      2\u001b[0m \u001b[1;32mfor\u001b[0m \u001b[0m_\u001b[0m \u001b[1;32min\u001b[0m \u001b[0mrange\u001b[0m\u001b[1;33m(\u001b[0m\u001b[1;36m5\u001b[0m\u001b[1;33m)\u001b[0m\u001b[1;33m:\u001b[0m\u001b[1;33m\u001b[0m\u001b[1;33m\u001b[0m\u001b[0m\n\u001b[1;32m----> 3\u001b[1;33m     \u001b[0mx\u001b[0m\u001b[1;33m,\u001b[0m \u001b[0my\u001b[0m \u001b[1;33m=\u001b[0m \u001b[0mnext\u001b[0m\u001b[1;33m(\u001b[0m\u001b[0ma\u001b[0m\u001b[1;33m)\u001b[0m\u001b[1;33m\u001b[0m\u001b[1;33m\u001b[0m\u001b[0m\n\u001b[0m\u001b[0;32m      4\u001b[0m     \u001b[0mfig\u001b[0m\u001b[1;33m,\u001b[0m \u001b[1;33m(\u001b[0m\u001b[0max1\u001b[0m\u001b[1;33m,\u001b[0m \u001b[0max2\u001b[0m\u001b[1;33m)\u001b[0m \u001b[1;33m=\u001b[0m \u001b[0mplt\u001b[0m\u001b[1;33m.\u001b[0m\u001b[0msubplots\u001b[0m\u001b[1;33m(\u001b[0m\u001b[1;36m1\u001b[0m\u001b[1;33m,\u001b[0m\u001b[1;36m2\u001b[0m\u001b[1;33m)\u001b[0m\u001b[1;33m\u001b[0m\u001b[1;33m\u001b[0m\u001b[0m\n\u001b[0;32m      5\u001b[0m     \u001b[0max1\u001b[0m\u001b[1;33m.\u001b[0m\u001b[0mimshow\u001b[0m\u001b[1;33m(\u001b[0m\u001b[0mx\u001b[0m\u001b[1;33m[\u001b[0m\u001b[1;36m0\u001b[0m\u001b[1;33m]\u001b[0m\u001b[1;33m.\u001b[0m\u001b[0mreshape\u001b[0m\u001b[1;33m(\u001b[0m\u001b[1;33m(\u001b[0m\u001b[1;36m224\u001b[0m\u001b[1;33m,\u001b[0m\u001b[1;36m224\u001b[0m\u001b[1;33m)\u001b[0m\u001b[1;33m)\u001b[0m\u001b[1;33m,\u001b[0m\u001b[0mcmap\u001b[0m\u001b[1;33m=\u001b[0m\u001b[1;34m\"gray\"\u001b[0m\u001b[1;33m)\u001b[0m\u001b[1;33m\u001b[0m\u001b[1;33m\u001b[0m\u001b[0m\n",
            "\u001b[1;32m<ipython-input-14-fbce1009f623>\u001b[0m in \u001b[0;36mdata_generator\u001b[1;34m(directory, batch_size)\u001b[0m\n\u001b[0;32m      2\u001b[0m \u001b[1;33m\u001b[0m\u001b[0m\n\u001b[0;32m      3\u001b[0m     \u001b[0mi\u001b[0m \u001b[1;33m=\u001b[0m \u001b[1;36m0\u001b[0m\u001b[1;33m\u001b[0m\u001b[1;33m\u001b[0m\u001b[0m\n\u001b[1;32m----> 4\u001b[1;33m     \u001b[0mfile_list\u001b[0m \u001b[1;33m=\u001b[0m \u001b[0mos\u001b[0m\u001b[1;33m.\u001b[0m\u001b[0mlistdir\u001b[0m\u001b[1;33m(\u001b[0m\u001b[0mdirectory\u001b[0m\u001b[1;33m)\u001b[0m\u001b[1;33m\u001b[0m\u001b[1;33m\u001b[0m\u001b[0m\n\u001b[0m\u001b[0;32m      5\u001b[0m     \u001b[0mrandom\u001b[0m\u001b[1;33m.\u001b[0m\u001b[0mshuffle\u001b[0m\u001b[1;33m(\u001b[0m\u001b[0mfile_list\u001b[0m\u001b[1;33m)\u001b[0m\u001b[1;33m\u001b[0m\u001b[1;33m\u001b[0m\u001b[0m\n\u001b[0;32m      6\u001b[0m     \u001b[1;32mwhile\u001b[0m \u001b[1;32mTrue\u001b[0m\u001b[1;33m:\u001b[0m\u001b[1;33m\u001b[0m\u001b[1;33m\u001b[0m\u001b[0m\n",
            "\u001b[1;31mFileNotFoundError\u001b[0m: [WinError 3] System nie może odnaleźć określonej ścieżki: '/content/drive/My Drive/challange_data/train_data'"
          ]
        }
      ],
      "source": [
        "a = data_generator(TRAIN_DIR, 1)\n",
        "for _ in range(5):\n",
        "    x, y = next(a)\n",
        "    fig, (ax1, ax2) = plt.subplots(1,2)\n",
        "    ax1.imshow(x[0].reshape((224,224)),cmap=\"gray\")\n",
        "    ax2.imshow(y[0].reshape((224,224)),cmap=\"gray\")"
      ]
    },
    {
      "cell_type": "code",
      "execution_count": 16,
      "metadata": {
        "colab": {},
        "colab_type": "code",
        "id": "NT2FT1lp6TiR"
      },
      "outputs": [],
      "source": [
        "def compile_model(model):\n",
        "    sgd = SGD(lr=1e-3, decay=1e-6, momentum=0.99, nesterov=True)\n",
        "    # model.compile(optimizer='nadam', loss=custom_loss)\n",
        "    model.compile(optimizer=sgd, loss=\"binary_crossentropy\")\n",
        "    return model"
      ]
    },
    {
      "cell_type": "code",
      "execution_count": 17,
      "metadata": {
        "colab": {},
        "colab_type": "code",
        "id": "eZHoQ--bR_Ph"
      },
      "outputs": [],
      "source": [
        "def train_with_generator_model(model, directory):\n",
        "\n",
        "    model = compile_model(model)\n",
        "    \n",
        "    checkpoint = ModelCheckpoint(\"/content/drive/My Drive/challange_data/bin_v{epoch:02d}.hdf5\", verbose=1) #val_acc yok ondan val_loss\n",
        "    \n",
        "    \"\"\"\n",
        "    fit_generator(object, generator, steps_per_epoch, epochs = 1,\n",
        "        verbose = getOption(\"keras.fit_verbose\", default = 1),\n",
        "        callbacks = NULL, view_metrics = getOption(\"keras.view_metrics\",\n",
        "        default = \"auto\"), validation_data = NULL, validation_steps = NULL,\n",
        "        class_weight = NULL, max_queue_size = 10, workers = 1,\n",
        "        initial_epoch = 0)\n",
        "    \"\"\"\n",
        "    \n",
        "    model.fit_generator(data_generator(directory, 32),\n",
        "                        steps_per_epoch = 10000,\n",
        "                        epochs = 10,\n",
        "                        validation_data=data_generator(directory, 100),\n",
        "                        validation_steps = 5,\n",
        "                        callbacks=[TensorBoard(log_dir='/content/drive/My Drive/challange_data', histogram_freq=0, write_graph=False), checkpoint ],\n",
        "                        verbose=1)\n",
        "    model.save(\"/content/drive/My Drive/challange_data/binary.hdf5\")"
      ]
    },
    {
      "cell_type": "code",
      "execution_count": 18,
      "metadata": {
        "colab": {},
        "colab_type": "code",
        "id": "VOAlsvFt51NK"
      },
      "outputs": [],
      "source": [
        "def train_model(model, batch_size = 50, dataset_size = 1000):\n",
        "\n",
        "    model = compile_model(model)\n",
        "    \n",
        "    checkpoint = ModelCheckpoint(\"/content/drive/My Drive/challange_data/bin_v{epoch:02d}.hdf5\", verbose=1) #val_acc yok ondan val_loss\n",
        "    \n",
        "    a = data_generator(\"/content/drive/My Drive/challange_data/train_data\", dataset_size)\n",
        "    \n",
        "    x = next(a)\n",
        "    print(x.shape)\n",
        "    #print(y.shape)\n",
        "    print(\"batch_size: \",batch_size)\n",
        "    model.fit(x, x,\n",
        "                        epochs=10,\n",
        "                        batch_size=batch_size,\n",
        "                        shuffle=True,\n",
        "                        validation_split = 0.1,\n",
        "                        callbacks=[TensorBoard(log_dir='/content/drive/My Drive/challange_data', histogram_freq=0, write_graph=False), checkpoint ])\n",
        "    model.save(\"/content/drive/My Drive/challange_data/binary.hdf5\")"
      ]
    },
    {
      "cell_type": "code",
      "execution_count": 19,
      "metadata": {
        "colab": {},
        "colab_type": "code",
        "id": "1WTWWRekf15y"
      },
      "outputs": [],
      "source": [
        "def retrain_(model_dir, dataset_dir, batch_size = 50,  dataset_size = 1000):\n",
        "    model = load_model(model_dir)\n",
        "\n",
        "    model.compile(optimizer=\"adam\", loss='binary_crossentropy', metrics=['accuracy'])\n",
        "    \n",
        "    checkpoint = ModelCheckpoint(\"/content/drive/My Drive/challange_data/bin_v{epoch:02d}.hdf5\", monitor='vall_acc', verbose=1) #val_acc yok ondan val_loss\n",
        "    \n",
        "    a = data_generator(\"/content/drive/My Drive/challange_data/train_data\", dataset_size)\n",
        "    \n",
        "    x, y = next(a)\n",
        "    print(x.shape)\n",
        "    print(y.shape)\n",
        "    print(\"batch_size: \",batch_size)\n",
        "    model.fit(x, y,\n",
        "                        epochs=10,\n",
        "                        batch_size=100,\n",
        "                        shuffle=True,\n",
        "                        validation_split = 0.1,\n",
        "                        callbacks=[checkpoint])\n",
        "    model.save(\"/content/drive/My Drive/challange_data/binary.hdf5\")\n",
        "    return model"
      ]
    },
    {
      "cell_type": "code",
      "execution_count": 20,
      "metadata": {
        "colab": {
          "base_uri": "https://localhost:8080/",
          "height": 1000
        },
        "colab_type": "code",
        "id": "JbfDBpFAWWlZ",
        "outputId": "1f262fe7-2882-45d5-a5ba-8ae21575fca1"
      },
      "outputs": [
        {
          "name": "stdout",
          "output_type": "stream",
          "text": [
            "Model: \"model\"\n",
            "_________________________________________________________________\n",
            " Layer (type)                Output Shape              Param #   \n",
            "=================================================================\n",
            " input_1 (InputLayer)        [(None, 224, 224, 1)]     0         \n",
            "                                                                 \n",
            " conv2d (Conv2D)             (None, 224, 224, 16)      160       \n",
            "                                                                 \n",
            " batch_normalization (BatchN  (None, 224, 224, 16)     64        \n",
            " ormalization)                                                   \n",
            "                                                                 \n",
            " conv2d_1 (Conv2D)           (None, 224, 224, 16)      2320      \n",
            "                                                                 \n",
            " batch_normalization_1 (Batc  (None, 224, 224, 16)     64        \n",
            " hNormalization)                                                 \n",
            "                                                                 \n",
            " max_pooling2d (MaxPooling2D  (None, 112, 112, 16)     0         \n",
            " )                                                               \n",
            "                                                                 \n",
            " conv2d_2 (Conv2D)           (None, 112, 112, 32)      4640      \n",
            "                                                                 \n",
            " batch_normalization_2 (Batc  (None, 112, 112, 32)     128       \n",
            " hNormalization)                                                 \n",
            "                                                                 \n",
            " max_pooling2d_1 (MaxPooling  (None, 56, 56, 32)       0         \n",
            " 2D)                                                             \n",
            "                                                                 \n",
            " conv2d_3 (Conv2D)           (None, 56, 56, 64)        18496     \n",
            "                                                                 \n",
            " batch_normalization_3 (Batc  (None, 56, 56, 64)       256       \n",
            " hNormalization)                                                 \n",
            "                                                                 \n",
            " max_pooling2d_2 (MaxPooling  (None, 28, 28, 64)       0         \n",
            " 2D)                                                             \n",
            "                                                                 \n",
            " conv2d_4 (Conv2D)           (None, 28, 28, 64)        36928     \n",
            "                                                                 \n",
            " batch_normalization_4 (Batc  (None, 28, 28, 64)       256       \n",
            " hNormalization)                                                 \n",
            "                                                                 \n",
            " max_pooling2d_3 (MaxPooling  (None, 14, 14, 64)       0         \n",
            " 2D)                                                             \n",
            "                                                                 \n",
            " conv2d_5 (Conv2D)           (None, 14, 14, 64)        36928     \n",
            "                                                                 \n",
            " batch_normalization_5 (Batc  (None, 14, 14, 64)       256       \n",
            " hNormalization)                                                 \n",
            "                                                                 \n",
            " conv2d_6 (Conv2D)           (None, 14, 14, 64)        36928     \n",
            "                                                                 \n",
            " batch_normalization_6 (Batc  (None, 14, 14, 64)       256       \n",
            " hNormalization)                                                 \n",
            "                                                                 \n",
            " encoder (MaxPooling2D)      (None, 7, 7, 64)          0         \n",
            "                                                                 \n",
            " up_sampling2d (UpSampling2D  (None, 14, 14, 64)       0         \n",
            " )                                                               \n",
            "                                                                 \n",
            " conv2d_7 (Conv2D)           (None, 14, 14, 64)        36928     \n",
            "                                                                 \n",
            " batch_normalization_7 (Batc  (None, 14, 14, 64)       256       \n",
            " hNormalization)                                                 \n",
            "                                                                 \n",
            " conv2d_8 (Conv2D)           (None, 14, 14, 64)        36928     \n",
            "                                                                 \n",
            " batch_normalization_8 (Batc  (None, 14, 14, 64)       256       \n",
            " hNormalization)                                                 \n",
            "                                                                 \n",
            " up_sampling2d_1 (UpSampling  (None, 28, 28, 64)       0         \n",
            " 2D)                                                             \n",
            "                                                                 \n",
            " conv2d_9 (Conv2D)           (None, 28, 28, 64)        36928     \n",
            "                                                                 \n",
            " batch_normalization_9 (Batc  (None, 28, 28, 64)       256       \n",
            " hNormalization)                                                 \n",
            "                                                                 \n",
            " up_sampling2d_2 (UpSampling  (None, 56, 56, 64)       0         \n",
            " 2D)                                                             \n",
            "                                                                 \n",
            " conv2d_10 (Conv2D)          (None, 56, 56, 64)        36928     \n",
            "                                                                 \n",
            " batch_normalization_10 (Bat  (None, 56, 56, 64)       256       \n",
            " chNormalization)                                                \n",
            "                                                                 \n",
            " up_sampling2d_3 (UpSampling  (None, 112, 112, 64)     0         \n",
            " 2D)                                                             \n",
            "                                                                 \n",
            " conv2d_11 (Conv2D)          (None, 112, 112, 32)      18464     \n",
            "                                                                 \n",
            " batch_normalization_11 (Bat  (None, 112, 112, 32)     128       \n",
            " chNormalization)                                                \n",
            "                                                                 \n",
            " up_sampling2d_4 (UpSampling  (None, 224, 224, 32)     0         \n",
            " 2D)                                                             \n",
            "                                                                 \n",
            " conv2d_12 (Conv2D)          (None, 224, 224, 16)      4624      \n",
            "                                                                 \n",
            " batch_normalization_12 (Bat  (None, 224, 224, 16)     64        \n",
            " chNormalization)                                                \n",
            "                                                                 \n",
            " conv2d_13 (Conv2D)          (None, 224, 224, 1)       145       \n",
            "                                                                 \n",
            "=================================================================\n",
            "Total params: 309,841\n",
            "Trainable params: 308,593\n",
            "Non-trainable params: 1,248\n",
            "_________________________________________________________________\n"
          ]
        }
      ],
      "source": [
        "autoencoder = create_model()\n",
        "autoencoder.summary()"
      ]
    },
    {
      "cell_type": "code",
      "execution_count": 21,
      "metadata": {
        "colab": {
          "base_uri": "https://localhost:8080/",
          "height": 627
        },
        "colab_type": "code",
        "id": "cHt-vkiiY1FN",
        "outputId": "f026282e-44f1-45db-a2f2-20cf5c35e797"
      },
      "outputs": [
        {
          "name": "stderr",
          "output_type": "stream",
          "text": [
            "C:\\Users\\1\\AppData\\Local\\Packages\\PythonSoftwareFoundation.Python.3.9_qbz5n2kfra8p0\\LocalCache\\local-packages\\Python39\\site-packages\\keras\\optimizer_v2\\gradient_descent.py:102: UserWarning: The `lr` argument is deprecated, use `learning_rate` instead.\n",
            "  super(SGD, self).__init__(name, **kwargs)\n",
            "<ipython-input-17-8c4124ef3462>:16: UserWarning: `Model.fit_generator` is deprecated and will be removed in a future version. Please use `Model.fit`, which supports generators.\n",
            "  model.fit_generator(data_generator(directory, 32),\n"
          ]
        },
        {
          "ename": "FileNotFoundError",
          "evalue": "[WinError 3] System nie może odnaleźć określonej ścieżki: '/content/drive/My Drive/challange_data/train_data'",
          "output_type": "error",
          "traceback": [
            "\u001b[1;31m---------------------------------------------------------------------------\u001b[0m",
            "\u001b[1;31mFileNotFoundError\u001b[0m                         Traceback (most recent call last)",
            "\u001b[1;32m<ipython-input-21-4271656c17d8>\u001b[0m in \u001b[0;36m<module>\u001b[1;34m\u001b[0m\n\u001b[1;32m----> 1\u001b[1;33m \u001b[0mtrain_with_generator_model\u001b[0m\u001b[1;33m(\u001b[0m\u001b[0mautoencoder\u001b[0m\u001b[1;33m,\u001b[0m\u001b[0mTRAIN_DIR\u001b[0m\u001b[1;33m)\u001b[0m\u001b[1;33m\u001b[0m\u001b[1;33m\u001b[0m\u001b[0m\n\u001b[0m",
            "\u001b[1;32m<ipython-input-17-8c4124ef3462>\u001b[0m in \u001b[0;36mtrain_with_generator_model\u001b[1;34m(model, directory)\u001b[0m\n\u001b[0;32m     14\u001b[0m     \"\"\"\n\u001b[0;32m     15\u001b[0m \u001b[1;33m\u001b[0m\u001b[0m\n\u001b[1;32m---> 16\u001b[1;33m     model.fit_generator(data_generator(directory, 32),\n\u001b[0m\u001b[0;32m     17\u001b[0m                         \u001b[0msteps_per_epoch\u001b[0m \u001b[1;33m=\u001b[0m \u001b[1;36m10000\u001b[0m\u001b[1;33m,\u001b[0m\u001b[1;33m\u001b[0m\u001b[1;33m\u001b[0m\u001b[0m\n\u001b[0;32m     18\u001b[0m                         \u001b[0mepochs\u001b[0m \u001b[1;33m=\u001b[0m \u001b[1;36m10\u001b[0m\u001b[1;33m,\u001b[0m\u001b[1;33m\u001b[0m\u001b[1;33m\u001b[0m\u001b[0m\n",
            "\u001b[1;32m~\\AppData\\Local\\Packages\\PythonSoftwareFoundation.Python.3.9_qbz5n2kfra8p0\\LocalCache\\local-packages\\Python39\\site-packages\\keras\\engine\\training.py\u001b[0m in \u001b[0;36mfit_generator\u001b[1;34m(self, generator, steps_per_epoch, epochs, verbose, callbacks, validation_data, validation_steps, validation_freq, class_weight, max_queue_size, workers, use_multiprocessing, shuffle, initial_epoch)\u001b[0m\n\u001b[0;32m   2014\u001b[0m         \u001b[1;34m'Please use `Model.fit`, which supports generators.'\u001b[0m\u001b[1;33m,\u001b[0m\u001b[1;33m\u001b[0m\u001b[1;33m\u001b[0m\u001b[0m\n\u001b[0;32m   2015\u001b[0m         stacklevel=2)\n\u001b[1;32m-> 2016\u001b[1;33m     return self.fit(\n\u001b[0m\u001b[0;32m   2017\u001b[0m         \u001b[0mgenerator\u001b[0m\u001b[1;33m,\u001b[0m\u001b[1;33m\u001b[0m\u001b[1;33m\u001b[0m\u001b[0m\n\u001b[0;32m   2018\u001b[0m         \u001b[0msteps_per_epoch\u001b[0m\u001b[1;33m=\u001b[0m\u001b[0msteps_per_epoch\u001b[0m\u001b[1;33m,\u001b[0m\u001b[1;33m\u001b[0m\u001b[1;33m\u001b[0m\u001b[0m\n",
            "\u001b[1;32m~\\AppData\\Local\\Packages\\PythonSoftwareFoundation.Python.3.9_qbz5n2kfra8p0\\LocalCache\\local-packages\\Python39\\site-packages\\keras\\utils\\traceback_utils.py\u001b[0m in \u001b[0;36merror_handler\u001b[1;34m(*args, **kwargs)\u001b[0m\n\u001b[0;32m     65\u001b[0m     \u001b[1;32mexcept\u001b[0m \u001b[0mException\u001b[0m \u001b[1;32mas\u001b[0m \u001b[0me\u001b[0m\u001b[1;33m:\u001b[0m  \u001b[1;31m# pylint: disable=broad-except\u001b[0m\u001b[1;33m\u001b[0m\u001b[1;33m\u001b[0m\u001b[0m\n\u001b[0;32m     66\u001b[0m       \u001b[0mfiltered_tb\u001b[0m \u001b[1;33m=\u001b[0m \u001b[0m_process_traceback_frames\u001b[0m\u001b[1;33m(\u001b[0m\u001b[0me\u001b[0m\u001b[1;33m.\u001b[0m\u001b[0m__traceback__\u001b[0m\u001b[1;33m)\u001b[0m\u001b[1;33m\u001b[0m\u001b[1;33m\u001b[0m\u001b[0m\n\u001b[1;32m---> 67\u001b[1;33m       \u001b[1;32mraise\u001b[0m \u001b[0me\u001b[0m\u001b[1;33m.\u001b[0m\u001b[0mwith_traceback\u001b[0m\u001b[1;33m(\u001b[0m\u001b[0mfiltered_tb\u001b[0m\u001b[1;33m)\u001b[0m \u001b[1;32mfrom\u001b[0m \u001b[1;32mNone\u001b[0m\u001b[1;33m\u001b[0m\u001b[1;33m\u001b[0m\u001b[0m\n\u001b[0m\u001b[0;32m     68\u001b[0m     \u001b[1;32mfinally\u001b[0m\u001b[1;33m:\u001b[0m\u001b[1;33m\u001b[0m\u001b[1;33m\u001b[0m\u001b[0m\n\u001b[0;32m     69\u001b[0m       \u001b[1;32mdel\u001b[0m \u001b[0mfiltered_tb\u001b[0m\u001b[1;33m\u001b[0m\u001b[1;33m\u001b[0m\u001b[0m\n",
            "\u001b[1;32m<ipython-input-14-fbce1009f623>\u001b[0m in \u001b[0;36mdata_generator\u001b[1;34m(directory, batch_size)\u001b[0m\n\u001b[0;32m      2\u001b[0m \u001b[1;33m\u001b[0m\u001b[0m\n\u001b[0;32m      3\u001b[0m     \u001b[0mi\u001b[0m \u001b[1;33m=\u001b[0m \u001b[1;36m0\u001b[0m\u001b[1;33m\u001b[0m\u001b[1;33m\u001b[0m\u001b[0m\n\u001b[1;32m----> 4\u001b[1;33m     \u001b[0mfile_list\u001b[0m \u001b[1;33m=\u001b[0m \u001b[0mos\u001b[0m\u001b[1;33m.\u001b[0m\u001b[0mlistdir\u001b[0m\u001b[1;33m(\u001b[0m\u001b[0mdirectory\u001b[0m\u001b[1;33m)\u001b[0m\u001b[1;33m\u001b[0m\u001b[1;33m\u001b[0m\u001b[0m\n\u001b[0m\u001b[0;32m      5\u001b[0m     \u001b[0mrandom\u001b[0m\u001b[1;33m.\u001b[0m\u001b[0mshuffle\u001b[0m\u001b[1;33m(\u001b[0m\u001b[0mfile_list\u001b[0m\u001b[1;33m)\u001b[0m\u001b[1;33m\u001b[0m\u001b[1;33m\u001b[0m\u001b[0m\n\u001b[0;32m      6\u001b[0m     \u001b[1;32mwhile\u001b[0m \u001b[1;32mTrue\u001b[0m\u001b[1;33m:\u001b[0m\u001b[1;33m\u001b[0m\u001b[1;33m\u001b[0m\u001b[0m\n",
            "\u001b[1;31mFileNotFoundError\u001b[0m: [WinError 3] System nie może odnaleźć określonej ścieżki: '/content/drive/My Drive/challange_data/train_data'"
          ]
        }
      ],
      "source": [
        "train_with_generator_model(autoencoder,TRAIN_DIR)\n"
      ]
    },
    {
      "cell_type": "code",
      "execution_count": 22,
      "metadata": {
        "colab": {},
        "colab_type": "code",
        "id": "YbQ6zOHf5MSD"
      },
      "outputs": [],
      "source": [
        "def retrain(path_to_model, directory, epoch = 5):\n",
        "\n",
        "    model = load_model(path_to_model)\n",
        "    compile_model(model)\n",
        "\n",
        "    checkpoint = ModelCheckpoint(\"/content/drive/My Drive/challange_data/re_bin_v{epoch:02d}.hdf5\", verbose=1) #val_acc yok ondan val_loss\n",
        "\n",
        "    \n",
        "    model.fit_generator(data_generator(directory, 32),\n",
        "                        steps_per_epoch = 10000,\n",
        "                        epochs = epoch,\n",
        "                        validation_data=data_generator(directory, 100),\n",
        "                        validation_steps = 5,\n",
        "                        callbacks=[checkpoint],\n",
        "                        verbose=1)\n",
        "    model.save(\"/content/drive/My Drive/challange_data/re_binary.hdf5\")\n",
        "    return model"
      ]
    },
    {
      "cell_type": "markdown",
      "metadata": {
        "colab_type": "text",
        "id": "UREql91i7wYB"
      },
      "source": [
        "Because train phase interupted, train of model will be contuinied from last checkpoint which is bin_v07.hdf5"
      ]
    },
    {
      "cell_type": "code",
      "execution_count": null,
      "metadata": {
        "colab": {
          "base_uri": "https://localhost:8080/",
          "height": 419
        },
        "colab_type": "code",
        "id": "kgWjSXgS5NoK",
        "outputId": "a56a0857-025b-4d68-92e5-d9d3616379e7"
      },
      "outputs": [
        {
          "name": "stdout",
          "output_type": "stream",
          "text": [
            "Epoch 1/5\n"
          ]
        },
        {
          "name": "stderr",
          "output_type": "stream",
          "text": [
            "/usr/local/lib/python3.6/dist-packages/ipykernel_launcher.py:8: FutureWarning: Using a non-tuple sequence for multidimensional indexing is deprecated; use `arr[tuple(seq)]` instead of `arr[seq]`. In the future this will be interpreted as an array index, `arr[np.array(seq)]`, which will result either in an error or a different result.\n",
            "  \n"
          ]
        },
        {
          "name": "stdout",
          "output_type": "stream",
          "text": [
            "10000/10000 [==============================] - 2124s 212ms/step - loss: 0.0793 - val_loss: 0.0803\n",
            "\n",
            "Epoch 00001: saving model to /content/drive/My Drive/challange_data/re_bin_v01.hdf5\n",
            "Epoch 2/5\n",
            "10000/10000 [==============================] - 1992s 199ms/step - loss: 0.0774 - val_loss: 0.0711\n",
            "\n",
            "Epoch 00002: saving model to /content/drive/My Drive/challange_data/re_bin_v02.hdf5\n",
            "Epoch 3/5\n",
            "10000/10000 [==============================] - 1976s 198ms/step - loss: 0.0758 - val_loss: 0.0720\n",
            "\n",
            "Epoch 00003: saving model to /content/drive/My Drive/challange_data/re_bin_v03.hdf5\n",
            "Epoch 4/5\n",
            "10000/10000 [==============================] - 1985s 199ms/step - loss: 0.0743 - val_loss: 0.0733\n",
            "\n",
            "Epoch 00004: saving model to /content/drive/My Drive/challange_data/re_bin_v04.hdf5\n",
            "Epoch 5/5\n",
            "10000/10000 [==============================] - 1982s 198ms/step - loss: 0.0730 - val_loss: 0.0684\n",
            "\n",
            "Epoch 00005: saving model to /content/drive/My Drive/challange_data/re_bin_v05.hdf5\n"
          ]
        }
      ],
      "source": [
        "path_to_model = \"/content/drive/My Drive/challange_data/bin_v07.hdf5\"\n",
        "re_auto = retrain(path_to_model, TRAIN_DIR) "
      ]
    },
    {
      "cell_type": "code",
      "execution_count": null,
      "metadata": {
        "colab": {},
        "colab_type": "code",
        "id": "RQOc-wU1uPDk"
      },
      "outputs": [],
      "source": [
        "re_auto = load_model(\"/content/drive/My Drive/challange_data/re_bin_v05.hdf5\")"
      ]
    },
    {
      "cell_type": "code",
      "execution_count": null,
      "metadata": {
        "colab": {},
        "colab_type": "code",
        "id": "CFTHP8VVvZZ4"
      },
      "outputs": [],
      "source": [
        "def sample_output_generate(model, num_of_sample = 5, directory=\"/content/drive/My Drive/challange_data/test_data\"):\n",
        "    dir_list = os.listdir(directory)\n",
        "    for i in range(1,2*num_of_sample+1,2):\n",
        "        file_name = dir_list[random.randint(0,len(dir_list))]\n",
        "        image = cv2.resize(cv2.imread(\"{}/{}\".format(directory, file_name),0), (SHAPE[0], SHAPE[1]), interpolation=cv2.INTER_NEAREST)\n",
        "        \n",
        "        copy = image.copy()\n",
        "\n",
        "        image = image.astype(float)/255.\n",
        "        res = re_auto.predict(image.reshape((1, 224,224,1)))\n",
        "        res = res.reshape((224, 224))*255\n",
        "        res = np.array(res, dtype=np.uint8)\n",
        "        fig, (ax1, ax2) = plt.subplots(1,2)\n",
        "        ax1.imshow(copy,cmap=\"gray\")\n",
        "        ax2.imshow(res,cmap=\"gray\")\n"
      ]
    },
    {
      "cell_type": "code",
      "execution_count": null,
      "metadata": {
        "colab": {
          "base_uri": "https://localhost:8080/",
          "height": 952
        },
        "colab_type": "code",
        "id": "Qfs8qVyBx-fd",
        "outputId": "27d91bcc-0e65-4458-d46e-39b3a098db9f"
      },
      "outputs": [
        {
          "data": {
            "image/png": "[encoded data removed]",
            "text/plain": [
              "<Figure size 432x288 with 2 Axes>"
            ]
          },
          "metadata": {
            "needs_background": "light",
            "tags": []
          },
          "output_type": "display_data"
        },
        {
          "data": {
            "image/png": "[encoded data removed]",
            "text/plain": [
              "<Figure size 432x288 with 2 Axes>"
            ]
          },
          "metadata": {
            "needs_background": "light",
            "tags": []
          },
          "output_type": "display_data"
        },
        {
          "data": {
            "image/png": "[encoded data removed]",
            "text/plain": [
              "<Figure size 432x288 with 2 Axes>"
            ]
          },
          "metadata": {
            "needs_background": "light",
            "tags": []
          },
          "output_type": "display_data"
        },
        {
          "data": {
            "image/png": "[encoded data removed]",
            "text/plain": [
              "<Figure size 432x288 with 2 Axes>"
            ]
          },
          "metadata": {
            "needs_background": "light",
            "tags": []
          },
          "output_type": "display_data"
        },
        {
          "data": {
            "image/png": "[encoded data removed]",
            "text/plain": [
              "<Figure size 432x288 with 2 Axes>"
            ]
          },
          "metadata": {
            "needs_background": "light",
            "tags": []
          },
          "output_type": "display_data"
        }
      ],
      "source": [
        "sample_output_generate(re_auto)"
      ]
    },
    {
      "cell_type": "code",
      "execution_count": 4,
      "metadata": {
        "colab": {},
        "colab_type": "code",
        "id": "-3Ramxw7yD3N"
      },
      "outputs": [
        {
          "name": "stdout",
          "output_type": "stream",
          "text": [
            "Model: \"model\"\n",
            "_________________________________________________________________\n",
            " Layer (type)                Output Shape              Param #   \n",
            "=================================================================\n",
            " input_1 (InputLayer)        [(None, 224, 224, 3)]     0         \n",
            "                                                                 \n",
            " conv2d (Conv2D)             (None, 224, 224, 16)      448       \n",
            "                                                                 \n",
            " batch_normalization (BatchN  (None, 224, 224, 16)     64        \n",
            " ormalization)                                                   \n",
            "                                                                 \n",
            " conv2d_1 (Conv2D)           (None, 224, 224, 16)      2320      \n",
            "                                                                 \n",
            " batch_normalization_1 (Batc  (None, 224, 224, 16)     64        \n",
            " hNormalization)                                                 \n",
            "                                                                 \n",
            " max_pooling2d (MaxPooling2D  (None, 112, 112, 16)     0         \n",
            " )                                                               \n",
            "                                                                 \n",
            " conv2d_2 (Conv2D)           (None, 112, 112, 32)      4640      \n",
            "                                                                 \n",
            " batch_normalization_2 (Batc  (None, 112, 112, 32)     128       \n",
            " hNormalization)                                                 \n",
            "                                                                 \n",
            " max_pooling2d_1 (MaxPooling  (None, 56, 56, 32)       0         \n",
            " 2D)                                                             \n",
            "                                                                 \n",
            " conv2d_3 (Conv2D)           (None, 56, 56, 64)        18496     \n",
            "                                                                 \n",
            " batch_normalization_3 (Batc  (None, 56, 56, 64)       256       \n",
            " hNormalization)                                                 \n",
            "                                                                 \n",
            " max_pooling2d_2 (MaxPooling  (None, 28, 28, 64)       0         \n",
            " 2D)                                                             \n",
            "                                                                 \n",
            " conv2d_4 (Conv2D)           (None, 28, 28, 64)        36928     \n",
            "                                                                 \n",
            " batch_normalization_4 (Batc  (None, 28, 28, 64)       256       \n",
            " hNormalization)                                                 \n",
            "                                                                 \n",
            " max_pooling2d_3 (MaxPooling  (None, 14, 14, 64)       0         \n",
            " 2D)                                                             \n",
            "                                                                 \n",
            " conv2d_5 (Conv2D)           (None, 14, 14, 64)        36928     \n",
            "                                                                 \n",
            " batch_normalization_5 (Batc  (None, 14, 14, 64)       256       \n",
            " hNormalization)                                                 \n",
            "                                                                 \n",
            " conv2d_6 (Conv2D)           (None, 14, 14, 64)        36928     \n",
            "                                                                 \n",
            " batch_normalization_6 (Batc  (None, 14, 14, 64)       256       \n",
            " hNormalization)                                                 \n",
            "                                                                 \n",
            " encoder (MaxPooling2D)      (None, 7, 7, 64)          0         \n",
            "                                                                 \n",
            " up_sampling2d (UpSampling2D  (None, 14, 14, 64)       0         \n",
            " )                                                               \n",
            "                                                                 \n",
            " conv2d_7 (Conv2D)           (None, 14, 14, 64)        36928     \n",
            "                                                                 \n",
            " batch_normalization_7 (Batc  (None, 14, 14, 64)       256       \n",
            " hNormalization)                                                 \n",
            "                                                                 \n",
            " conv2d_8 (Conv2D)           (None, 14, 14, 64)        36928     \n",
            "                                                                 \n",
            " batch_normalization_8 (Batc  (None, 14, 14, 64)       256       \n",
            " hNormalization)                                                 \n",
            "                                                                 \n",
            " up_sampling2d_1 (UpSampling  (None, 28, 28, 64)       0         \n",
            " 2D)                                                             \n",
            "                                                                 \n",
            " conv2d_9 (Conv2D)           (None, 28, 28, 64)        36928     \n",
            "                                                                 \n",
            " batch_normalization_9 (Batc  (None, 28, 28, 64)       256       \n",
            " hNormalization)                                                 \n",
            "                                                                 \n",
            " up_sampling2d_2 (UpSampling  (None, 56, 56, 64)       0         \n",
            " 2D)                                                             \n",
            "                                                                 \n",
            " conv2d_10 (Conv2D)          (None, 56, 56, 64)        36928     \n",
            "                                                                 \n",
            " batch_normalization_10 (Bat  (None, 56, 56, 64)       256       \n",
            " chNormalization)                                                \n",
            "                                                                 \n",
            " up_sampling2d_3 (UpSampling  (None, 112, 112, 64)     0         \n",
            " 2D)                                                             \n",
            "                                                                 \n",
            " conv2d_11 (Conv2D)          (None, 112, 112, 32)      18464     \n",
            "                                                                 \n",
            " batch_normalization_11 (Bat  (None, 112, 112, 32)     128       \n",
            " chNormalization)                                                \n",
            "                                                                 \n",
            " up_sampling2d_4 (UpSampling  (None, 224, 224, 32)     0         \n",
            " 2D)                                                             \n",
            "                                                                 \n",
            " conv2d_12 (Conv2D)          (None, 224, 224, 16)      4624      \n",
            "                                                                 \n",
            " batch_normalization_12 (Bat  (None, 224, 224, 16)     64        \n",
            " chNormalization)                                                \n",
            "                                                                 \n",
            " conv2d_13 (Conv2D)          (None, 224, 224, 1)       145       \n",
            "                                                                 \n",
            "=================================================================\n",
            "Total params: 310,129\n",
            "Trainable params: 308,881\n",
            "Non-trainable params: 1,248\n",
            "_________________________________________________________________\n"
          ]
        }
      ],
      "source": [
        "model = create_model(input_shape = (224, 224, 3))\n",
        "model.summary()"
      ]
    },
    {
      "cell_type": "code",
      "execution_count": 5,
      "metadata": {},
      "outputs": [],
      "source": [
        "model.compile(optimizer='sgd', loss='mean_squared_error')\n"
      ]
    },
    {
      "cell_type": "code",
      "execution_count": 6,
      "metadata": {},
      "outputs": [],
      "source": [
        "def get_images(directory):\n",
        "    images = []\n",
        "    for image_file in os.listdir(directory): \n",
        "        image = cv2.imread(directory+image_file)\n",
        "        image = cv2.cvtColor(image, cv2.COLOR_RGB2BGR)            \n",
        "        images.append(image)\n",
        "    return np.array(images)"
      ]
    },
    {
      "cell_type": "code",
      "execution_count": 7,
      "metadata": {},
      "outputs": [
        {
          "data": {
            "text/plain": [
              "(864, 224, 224, 3)"
            ]
          },
          "execution_count": 7,
          "metadata": {},
          "output_type": "execute_result"
        }
      ],
      "source": [
        "data = get_images('resized_merged_images/')\n",
        "data.shape"
      ]
    },
    {
      "cell_type": "code",
      "execution_count": 10,
      "metadata": {},
      "outputs": [],
      "source": [
        "X_train, X_test = data[:650], data[650:]"
      ]
    },
    {
      "cell_type": "code",
      "execution_count": 11,
      "metadata": {},
      "outputs": [
        {
          "name": "stdout",
          "output_type": "stream",
          "text": [
            "Epoch 1/30\n",
            "21/21 [==============================] - 205s 10s/step - loss: 0.2653 - val_loss: 0.1931\n",
            "Epoch 2/30\n",
            "21/21 [==============================] - 200s 10s/step - loss: 0.2299 - val_loss: 0.1409\n",
            "Epoch 3/30\n",
            "21/21 [==============================] - 197s 9s/step - loss: 0.2059 - val_loss: 0.1049\n",
            "Epoch 4/30\n",
            "21/21 [==============================] - 206s 10s/step - loss: 0.1808 - val_loss: 0.0814\n",
            "Epoch 5/30\n",
            "21/21 [==============================] - 203s 10s/step - loss: 0.1625 - val_loss: 0.0667\n",
            "Epoch 6/30\n",
            "21/21 [==============================] - 200s 10s/step - loss: 0.1435 - val_loss: 0.0579\n",
            "Epoch 7/30\n",
            "21/21 [==============================] - 203s 10s/step - loss: 0.1306 - val_loss: 0.0533\n",
            "Epoch 8/30\n",
            "21/21 [==============================] - 203s 10s/step - loss: 0.1181 - val_loss: 0.0507\n",
            "Epoch 9/30\n",
            "21/21 [==============================] - 200s 10s/step - loss: 0.1107 - val_loss: 0.0493\n",
            "Epoch 10/30\n",
            "21/21 [==============================] - 202s 10s/step - loss: 0.1002 - val_loss: 0.0492\n",
            "Epoch 11/30\n",
            "21/21 [==============================] - 202s 10s/step - loss: 0.0939 - val_loss: 0.0495\n",
            "Epoch 12/30\n",
            "21/21 [==============================] - 199s 10s/step - loss: 0.0925 - val_loss: 0.0522\n",
            "Epoch 13/30\n",
            "21/21 [==============================] - 201s 10s/step - loss: 0.0875 - val_loss: 0.0556\n",
            "Epoch 14/30\n",
            "21/21 [==============================] - 199s 10s/step - loss: 0.0774 - val_loss: 0.0576\n",
            "Epoch 15/30\n",
            "21/21 [==============================] - 200s 10s/step - loss: 0.0780 - val_loss: 0.0602\n",
            "Epoch 16/30\n",
            "21/21 [==============================] - 199s 9s/step - loss: 0.0716 - val_loss: 0.0620\n",
            "Epoch 17/30\n",
            "21/21 [==============================] - 200s 10s/step - loss: 0.0710 - val_loss: 0.0649\n",
            "Epoch 18/30\n",
            "21/21 [==============================] - 199s 10s/step - loss: 0.0680 - val_loss: 0.0669\n",
            "Epoch 19/30\n",
            "21/21 [==============================] - 200s 10s/step - loss: 0.0665 - val_loss: 0.0702\n",
            "Epoch 20/30\n",
            "21/21 [==============================] - 203s 10s/step - loss: 0.0650 - val_loss: 0.0709\n",
            "Epoch 21/30\n",
            "21/21 [==============================] - 4412s 220s/step - loss: 0.0598 - val_loss: 0.0715\n",
            "Epoch 22/30\n",
            "21/21 [==============================] - 184s 9s/step - loss: 0.0615 - val_loss: 0.0711\n",
            "Epoch 23/30\n",
            "21/21 [==============================] - 184s 9s/step - loss: 0.0561 - val_loss: 0.0719\n",
            "Epoch 24/30\n",
            "21/21 [==============================] - 184s 9s/step - loss: 0.0576 - val_loss: 0.0716\n",
            "Epoch 25/30\n",
            "21/21 [==============================] - 184s 9s/step - loss: 0.0555 - val_loss: 0.0720\n",
            "Epoch 26/30\n",
            "21/21 [==============================] - 193s 9s/step - loss: 0.0529 - val_loss: 0.0712\n",
            "Epoch 27/30\n",
            "21/21 [==============================] - 229s 11s/step - loss: 0.0510 - val_loss: 0.0710\n",
            "Epoch 28/30\n",
            "21/21 [==============================] - 224s 10s/step - loss: 0.0508 - val_loss: 0.0721\n",
            "Epoch 29/30\n",
            "21/21 [==============================] - 213s 10s/step - loss: 0.0473 - val_loss: 0.0699\n",
            "Epoch 30/30\n",
            "21/21 [==============================] - 241s 12s/step - loss: 0.0473 - val_loss: 0.0684\n"
          ]
        },
        {
          "data": {
            "text/plain": [
              "<keras.callbacks.History at 0x25d74dcc460>"
            ]
          },
          "execution_count": 11,
          "metadata": {},
          "output_type": "execute_result"
        }
      ],
      "source": [
        "model.fit(X_train, X_train, epochs=30, batch_size=32, validation_data=(X_test, X_test))"
      ]
    },
    {
      "cell_type": "code",
      "execution_count": 12,
      "metadata": {},
      "outputs": [
        {
          "data": {
            "text/plain": [
              "(2, 224, 224, 1)"
            ]
          },
          "execution_count": 12,
          "metadata": {},
          "output_type": "execute_result"
        }
      ],
      "source": [
        "pred = model.predict(X_test[0:2])\n",
        "pred.shape"
      ]
    },
    {
      "cell_type": "code",
      "execution_count": 13,
      "metadata": {},
      "outputs": [
        {
          "name": "stdout",
          "output_type": "stream",
          "text": [
            "INFO:tensorflow:Assets written to: modelss\\assets\n"
          ]
        }
      ],
      "source": [
        "model.save('modelss')"
      ]
    },
    {
      "cell_type": "code",
      "execution_count": 14,
      "metadata": {},
      "outputs": [],
      "source": [
        "X_test = cv2.cvtColor(X_test[0], cv2.COLOR_BGR2GRAY)"
      ]
    },
    {
      "cell_type": "code",
      "execution_count": 15,
      "metadata": {},
      "outputs": [],
      "source": [
        "pred = pred[0]"
      ]
    },
    {
      "cell_type": "code",
      "execution_count": 16,
      "metadata": {},
      "outputs": [
        {
          "data": {
            "text/plain": [
              "(224, 224, 1)"
            ]
          },
          "execution_count": 16,
          "metadata": {},
          "output_type": "execute_result"
        }
      ],
      "source": [
        "pred.shape"
      ]
    },
    {
      "cell_type": "code",
      "execution_count": 17,
      "metadata": {},
      "outputs": [
        {
          "data": {
            "text/plain": [
              "(224, 224, 1)"
            ]
          },
          "execution_count": 17,
          "metadata": {},
          "output_type": "execute_result"
        }
      ],
      "source": [
        "X_test = np.reshape(X_test, (224, 224, 1))\n",
        "X_test.shape"
      ]
    },
    {
      "cell_type": "code",
      "execution_count": 18,
      "metadata": {},
      "outputs": [
        {
          "data": {
            "text/plain": [
              "(650, 224, 224, 3)"
            ]
          },
          "execution_count": 18,
          "metadata": {},
          "output_type": "execute_result"
        }
      ],
      "source": [
        "X_train.shape"
      ]
    },
    {
      "cell_type": "code",
      "execution_count": 19,
      "metadata": {},
      "outputs": [
        {
          "ename": "TypeError",
          "evalue": "destroyWindow() missing required argument 'winname' (pos 1)",
          "output_type": "error",
          "traceback": [
            "\u001b[1;31m---------------------------------------------------------------------------\u001b[0m",
            "\u001b[1;31mTypeError\u001b[0m                                 Traceback (most recent call last)",
            "\u001b[1;32m<ipython-input-19-e00945b1b36f>\u001b[0m in \u001b[0;36m<module>\u001b[1;34m\u001b[0m\n\u001b[0;32m      1\u001b[0m \u001b[0mcv2\u001b[0m\u001b[1;33m.\u001b[0m\u001b[0mimshow\u001b[0m\u001b[1;33m(\u001b[0m\u001b[1;34m'd'\u001b[0m\u001b[1;33m,\u001b[0m \u001b[0mX_train\u001b[0m\u001b[1;33m[\u001b[0m\u001b[1;36m0\u001b[0m\u001b[1;33m]\u001b[0m\u001b[1;33m)\u001b[0m\u001b[1;33m\u001b[0m\u001b[1;33m\u001b[0m\u001b[0m\n\u001b[0;32m      2\u001b[0m \u001b[0mcv2\u001b[0m\u001b[1;33m.\u001b[0m\u001b[0mwaitKey\u001b[0m\u001b[1;33m(\u001b[0m\u001b[1;36m0\u001b[0m\u001b[1;33m)\u001b[0m\u001b[1;33m\u001b[0m\u001b[1;33m\u001b[0m\u001b[0m\n\u001b[1;32m----> 3\u001b[1;33m \u001b[0mcv2\u001b[0m\u001b[1;33m.\u001b[0m\u001b[0mdestroyWindow\u001b[0m\u001b[1;33m(\u001b[0m\u001b[1;33m)\u001b[0m\u001b[1;33m\u001b[0m\u001b[1;33m\u001b[0m\u001b[0m\n\u001b[0m",
            "\u001b[1;31mTypeError\u001b[0m: destroyWindow() missing required argument 'winname' (pos 1)"
          ]
        }
      ],
      "source": [
        "cv2.imshow('d', X_train[0])\n",
        "cv2.waitKey(0)\n",
        "cv2.destroyWindow()"
      ]
    },
    {
      "cell_type": "code",
      "execution_count": 1,
      "metadata": {},
      "outputs": [
        {
          "ename": "NameError",
          "evalue": "name 'cv2' is not defined",
          "output_type": "error",
          "traceback": [
            "\u001b[1;31m---------------------------------------------------------------------------\u001b[0m",
            "\u001b[1;31mNameError\u001b[0m                                 Traceback (most recent call last)",
            "\u001b[1;32m<ipython-input-1-4663206c758e>\u001b[0m in \u001b[0;36m<module>\u001b[1;34m\u001b[0m\n\u001b[1;32m----> 1\u001b[1;33m \u001b[0mcv2\u001b[0m\u001b[1;33m.\u001b[0m\u001b[0mimshow\u001b[0m\u001b[1;33m(\u001b[0m\u001b[1;34m'd'\u001b[0m\u001b[1;33m,\u001b[0m \u001b[0mpred\u001b[0m\u001b[1;33m)\u001b[0m\u001b[1;33m\u001b[0m\u001b[1;33m\u001b[0m\u001b[0m\n\u001b[0m\u001b[0;32m      2\u001b[0m \u001b[0mcv2\u001b[0m\u001b[1;33m.\u001b[0m\u001b[0mwaitKey\u001b[0m\u001b[1;33m(\u001b[0m\u001b[1;36m0\u001b[0m\u001b[1;33m)\u001b[0m\u001b[1;33m\u001b[0m\u001b[1;33m\u001b[0m\u001b[0m\n\u001b[0;32m      3\u001b[0m \u001b[0mcv2\u001b[0m\u001b[1;33m.\u001b[0m\u001b[0mdestroyWindow\u001b[0m\u001b[1;33m(\u001b[0m\u001b[1;33m)\u001b[0m\u001b[1;33m\u001b[0m\u001b[1;33m\u001b[0m\u001b[0m\n",
            "\u001b[1;31mNameError\u001b[0m: name 'cv2' is not defined"
          ]
        }
      ],
      "source": [
        "cv2.imshow('d', pred)\n",
        "cv2.waitKey(0)\n",
        "cv2.destroyWindow()"
      ]
    },
    {
      "cell_type": "code",
      "execution_count": 20,
      "metadata": {},
      "outputs": [
        {
          "data": {
            "text/plain": [
              "True"
            ]
          },
          "execution_count": 20,
          "metadata": {},
          "output_type": "execute_result"
        }
      ],
      "source": [
        "cv2.imwrite('sample.tiff', X_test)"
      ]
    },
    {
      "cell_type": "code",
      "execution_count": null,
      "metadata": {},
      "outputs": [],
      "source": []
    },
    {
      "cell_type": "code",
      "execution_count": 22,
      "metadata": {},
      "outputs": [
        {
          "ename": "TypeError",
          "evalue": "destroyWindow() missing required argument 'winname' (pos 1)",
          "output_type": "error",
          "traceback": [
            "\u001b[1;31m---------------------------------------------------------------------------\u001b[0m",
            "\u001b[1;31mTypeError\u001b[0m                                 Traceback (most recent call last)",
            "\u001b[1;32m<ipython-input-22-76f1ef0a972e>\u001b[0m in \u001b[0;36m<module>\u001b[1;34m\u001b[0m\n\u001b[0;32m      4\u001b[0m \u001b[0mcv2\u001b[0m\u001b[1;33m.\u001b[0m\u001b[0mimshow\u001b[0m\u001b[1;33m(\u001b[0m\u001b[1;34m'd'\u001b[0m\u001b[1;33m,\u001b[0m \u001b[0mimage\u001b[0m\u001b[1;33m)\u001b[0m\u001b[1;33m\u001b[0m\u001b[1;33m\u001b[0m\u001b[0m\n\u001b[0;32m      5\u001b[0m \u001b[0mcv2\u001b[0m\u001b[1;33m.\u001b[0m\u001b[0mwaitKey\u001b[0m\u001b[1;33m(\u001b[0m\u001b[1;36m0\u001b[0m\u001b[1;33m)\u001b[0m\u001b[1;33m\u001b[0m\u001b[1;33m\u001b[0m\u001b[0m\n\u001b[1;32m----> 6\u001b[1;33m \u001b[0mcv2\u001b[0m\u001b[1;33m.\u001b[0m\u001b[0mdestroyWindow\u001b[0m\u001b[1;33m(\u001b[0m\u001b[1;33m)\u001b[0m\u001b[1;33m\u001b[0m\u001b[1;33m\u001b[0m\u001b[0m\n\u001b[0m",
            "\u001b[1;31mTypeError\u001b[0m: destroyWindow() missing required argument 'winname' (pos 1)"
          ]
        }
      ],
      "source": [
        "image = cv2.imread('your_file3.jpeg')\n",
        "image = cv2.cvtColor(image, cv2.COLOR_RGB2BGR)\n",
        "image = cv2.resize(image, (224, 224))\n",
        "cv2.imshow('d', image)\n",
        "cv2.waitKey(0)\n",
        "cv2.destroyWindow()"
      ]
    },
    {
      "cell_type": "code",
      "execution_count": 25,
      "metadata": {},
      "outputs": [],
      "source": [
        "# pred = model.predict(image)\n",
        "image = np.reshape(image, (1,224,224,3))\n",
        "pred = model.predict(image)"
      ]
    },
    {
      "cell_type": "code",
      "execution_count": 26,
      "metadata": {},
      "outputs": [
        {
          "ename": "TypeError",
          "evalue": "destroyWindow() missing required argument 'winname' (pos 1)",
          "output_type": "error",
          "traceback": [
            "\u001b[1;31m---------------------------------------------------------------------------\u001b[0m",
            "\u001b[1;31mTypeError\u001b[0m                                 Traceback (most recent call last)",
            "\u001b[1;32m<ipython-input-26-d5128c74a399>\u001b[0m in \u001b[0;36m<module>\u001b[1;34m\u001b[0m\n\u001b[0;32m      1\u001b[0m \u001b[0mcv2\u001b[0m\u001b[1;33m.\u001b[0m\u001b[0mimshow\u001b[0m\u001b[1;33m(\u001b[0m\u001b[1;34m'd'\u001b[0m\u001b[1;33m,\u001b[0m \u001b[0mpred\u001b[0m\u001b[1;33m[\u001b[0m\u001b[1;36m0\u001b[0m\u001b[1;33m]\u001b[0m\u001b[1;33m)\u001b[0m\u001b[1;33m\u001b[0m\u001b[1;33m\u001b[0m\u001b[0m\n\u001b[0;32m      2\u001b[0m \u001b[0mcv2\u001b[0m\u001b[1;33m.\u001b[0m\u001b[0mwaitKey\u001b[0m\u001b[1;33m(\u001b[0m\u001b[1;36m0\u001b[0m\u001b[1;33m)\u001b[0m\u001b[1;33m\u001b[0m\u001b[1;33m\u001b[0m\u001b[0m\n\u001b[1;32m----> 3\u001b[1;33m \u001b[0mcv2\u001b[0m\u001b[1;33m.\u001b[0m\u001b[0mdestroyWindow\u001b[0m\u001b[1;33m(\u001b[0m\u001b[1;33m)\u001b[0m\u001b[1;33m\u001b[0m\u001b[1;33m\u001b[0m\u001b[0m\n\u001b[0m",
            "\u001b[1;31mTypeError\u001b[0m: destroyWindow() missing required argument 'winname' (pos 1)"
          ]
        }
      ],
      "source": [
        "cv2.imshow('d', pred[0])\n",
        "cv2.waitKey(0)\n",
        "cv2.destroyWindow()"
      ]
    }
  ],
  "metadata": {
    "accelerator": "GPU",
    "colab": {
      "collapsed_sections": [],
      "name": "autoencoder",
      "provenance": []
    },
    "kernelspec": {
      "display_name": "Python 3",
      "name": "python3"
    },
    "language_info": {
      "codemirror_mode": {
        "name": "ipython",
        "version": 3
      },
      "file_extension": ".py",
      "mimetype": "text/x-python",
      "name": "python",
      "nbconvert_exporter": "python",
      "pygments_lexer": "ipython3",
      "version": "3.9.7"
    }
  },
  "nbformat": 4,
  "nbformat_minor": 0
}
